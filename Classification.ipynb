{
 "cells": [
  {
   "cell_type": "code",
   "execution_count": 4,
   "id": "aa09dfc6-4517-4ac3-83b8-d209f2e0ab28",
   "metadata": {},
   "outputs": [
    {
     "name": "stdout",
     "output_type": "stream",
     "text": [
      "Collecting p-decision-tree\n",
      "  Downloading p_decision_tree-0.0.3-py3-none-any.whl.metadata (3.1 kB)\n",
      "Collecting graphviz (from p-decision-tree)\n",
      "  Downloading graphviz-0.20.3-py3-none-any.whl.metadata (12 kB)\n",
      "Requirement already satisfied: pandas in /home/stilyan/anaconda3/lib/python3.12/site-packages (from p-decision-tree) (2.2.2)\n",
      "Requirement already satisfied: numpy>=1.26.0 in /home/stilyan/anaconda3/lib/python3.12/site-packages (from pandas->p-decision-tree) (1.26.4)\n",
      "Requirement already satisfied: python-dateutil>=2.8.2 in /home/stilyan/anaconda3/lib/python3.12/site-packages (from pandas->p-decision-tree) (2.9.0.post0)\n",
      "Requirement already satisfied: pytz>=2020.1 in /home/stilyan/anaconda3/lib/python3.12/site-packages (from pandas->p-decision-tree) (2024.1)\n",
      "Requirement already satisfied: tzdata>=2022.7 in /home/stilyan/anaconda3/lib/python3.12/site-packages (from pandas->p-decision-tree) (2023.3)\n",
      "Requirement already satisfied: six>=1.5 in /home/stilyan/anaconda3/lib/python3.12/site-packages (from python-dateutil>=2.8.2->pandas->p-decision-tree) (1.16.0)\n",
      "Downloading p_decision_tree-0.0.3-py3-none-any.whl (5.0 kB)\n",
      "Downloading graphviz-0.20.3-py3-none-any.whl (47 kB)\n",
      "\u001b[2K   \u001b[38;2;114;156;31m━━━━━━━━━━━━━━━━━━━━━━━━━━━━━━━━━━━━━━━━\u001b[0m \u001b[32m47.1/47.1 kB\u001b[0m \u001b[31m2.8 MB/s\u001b[0m eta \u001b[36m0:00:00\u001b[0m\n",
      "\u001b[?25hInstalling collected packages: graphviz, p-decision-tree\n",
      "Successfully installed graphviz-0.20.3 p-decision-tree-0.0.3\n"
     ]
    }
   ],
   "source": [
    "!pip install p-decision-tree"
   ]
  },
  {
   "cell_type": "code",
   "execution_count": 5,
   "id": "1889044e-9152-45e5-846e-dcf3887cec7f",
   "metadata": {},
   "outputs": [],
   "source": [
    "import pandas as pd\n",
    "from p_decision_tree.DecisionTree import DecisionTree"
   ]
  },
  {
   "cell_type": "code",
   "execution_count": 6,
   "id": "60401b5d-597f-4aa3-8a3e-acb546feb645",
   "metadata": {},
   "outputs": [
    {
     "data": {
      "text/html": [
       "<div>\n",
       "<style scoped>\n",
       "    .dataframe tbody tr th:only-of-type {\n",
       "        vertical-align: middle;\n",
       "    }\n",
       "\n",
       "    .dataframe tbody tr th {\n",
       "        vertical-align: top;\n",
       "    }\n",
       "\n",
       "    .dataframe thead th {\n",
       "        text-align: right;\n",
       "    }\n",
       "</style>\n",
       "<table border=\"1\" class=\"dataframe\">\n",
       "  <thead>\n",
       "    <tr style=\"text-align: right;\">\n",
       "      <th></th>\n",
       "      <th>day</th>\n",
       "      <th>outlook</th>\n",
       "      <th>temp</th>\n",
       "      <th>humidity</th>\n",
       "      <th>wind</th>\n",
       "      <th>play</th>\n",
       "    </tr>\n",
       "  </thead>\n",
       "  <tbody>\n",
       "    <tr>\n",
       "      <th>0</th>\n",
       "      <td>D1</td>\n",
       "      <td>Sunny</td>\n",
       "      <td>Hot</td>\n",
       "      <td>High</td>\n",
       "      <td>Weak</td>\n",
       "      <td>No</td>\n",
       "    </tr>\n",
       "    <tr>\n",
       "      <th>1</th>\n",
       "      <td>D2</td>\n",
       "      <td>Sunny</td>\n",
       "      <td>Hot</td>\n",
       "      <td>High</td>\n",
       "      <td>Strong</td>\n",
       "      <td>No</td>\n",
       "    </tr>\n",
       "    <tr>\n",
       "      <th>2</th>\n",
       "      <td>D3</td>\n",
       "      <td>Overcast</td>\n",
       "      <td>Hot</td>\n",
       "      <td>High</td>\n",
       "      <td>Weak</td>\n",
       "      <td>Yes</td>\n",
       "    </tr>\n",
       "    <tr>\n",
       "      <th>3</th>\n",
       "      <td>D4</td>\n",
       "      <td>Rain</td>\n",
       "      <td>Mild</td>\n",
       "      <td>High</td>\n",
       "      <td>Weak</td>\n",
       "      <td>Yes</td>\n",
       "    </tr>\n",
       "    <tr>\n",
       "      <th>4</th>\n",
       "      <td>D5</td>\n",
       "      <td>Rain</td>\n",
       "      <td>Cool</td>\n",
       "      <td>Normal</td>\n",
       "      <td>Weak</td>\n",
       "      <td>Yes</td>\n",
       "    </tr>\n",
       "  </tbody>\n",
       "</table>\n",
       "</div>"
      ],
      "text/plain": [
       "  day   outlook  temp humidity    wind play\n",
       "0  D1     Sunny   Hot     High    Weak   No\n",
       "1  D2     Sunny   Hot     High  Strong   No\n",
       "2  D3  Overcast   Hot     High    Weak  Yes\n",
       "3  D4      Rain  Mild     High    Weak  Yes\n",
       "4  D5      Rain  Cool   Normal    Weak  Yes"
      ]
     },
     "execution_count": 6,
     "metadata": {},
     "output_type": "execute_result"
    }
   ],
   "source": [
    "dataset = pd.read_csv(\"play_tennis.csv\")\n",
    "dataset.head()"
   ]
  },
  {
   "cell_type": "code",
   "execution_count": 8,
   "id": "c16ee21e-4504-48b1-a8d2-b1dff6863b52",
   "metadata": {},
   "outputs": [
    {
     "data": {
      "text/plain": [
       "(14, 6)"
      ]
     },
     "execution_count": 8,
     "metadata": {},
     "output_type": "execute_result"
    }
   ],
   "source": [
    "dataset.shape"
   ]
  },
  {
   "cell_type": "code",
   "execution_count": 9,
   "id": "cf0880c0-caea-4c18-9c0d-1350c3d89a0e",
   "metadata": {},
   "outputs": [
    {
     "data": {
      "text/plain": [
       "day         0\n",
       "outlook     0\n",
       "temp        0\n",
       "humidity    0\n",
       "wind        0\n",
       "play        0\n",
       "dtype: int64"
      ]
     },
     "execution_count": 9,
     "metadata": {},
     "output_type": "execute_result"
    }
   ],
   "source": [
    "dataset.isna().sum()"
   ]
  },
  {
   "cell_type": "code",
   "execution_count": 26,
   "id": "3d6b3d25-a5e0-4469-9306-c4da956e3f27",
   "metadata": {},
   "outputs": [],
   "source": [
    "dataset = dataset.drop(columns=[dataset.columns[0]])\n",
    "# dataset = dataset.drop(dataset.columns[0], axis=1)\n",
    "# df = df.drop(columns=[df.columns[0]])\n",
    "# df = df.drop(df.columns[0], axis=1)"
   ]
  },
  {
   "cell_type": "code",
   "execution_count": 27,
   "id": "65f88048-7fa7-4432-8d7c-be7fdebf6066",
   "metadata": {},
   "outputs": [],
   "source": [
    "columns = dataset.columns\n",
    "# ALL columns except the last one are descriptive by default\n",
    "descriptive_feature = columns[:-1]\n",
    "# The last column is considered as label\n",
    "label = columns[-1]"
   ]
  },
  {
   "cell_type": "code",
   "execution_count": 28,
   "id": "313db59f-794e-4726-8d2e-a1899c26516c",
   "metadata": {},
   "outputs": [],
   "source": [
    "# Convert all columns to strig\n",
    "for column in columns:\n",
    "    dataset[column]=dataset[column].astype(str)"
   ]
  },
  {
   "cell_type": "code",
   "execution_count": 29,
   "id": "54fd7373-8238-4b04-8e4d-19ec5946e802",
   "metadata": {},
   "outputs": [],
   "source": [
    "X = dataset[descriptive_feature].values\n",
    "y = dataset[label].values"
   ]
  },
  {
   "cell_type": "code",
   "execution_count": 30,
   "id": "2baa1d78-eba3-4f2e-adf4-58601765e99e",
   "metadata": {},
   "outputs": [],
   "source": [
    "decisionTree = DecisionTree(X.tolist(), descriptive_feature.tolist(), y.tolist(), \"entropy\")"
   ]
  },
  {
   "cell_type": "code",
   "execution_count": 31,
   "id": "e3f57c9d-d475-46da-8d5c-d171a4b22352",
   "metadata": {},
   "outputs": [
    {
     "data": {
      "image/svg+xml": [
       "<?xml version=\"1.0\" encoding=\"UTF-8\" standalone=\"no\"?>\n",
       "<!DOCTYPE svg PUBLIC \"-//W3C//DTD SVG 1.1//EN\"\n",
       " \"http://www.w3.org/Graphics/SVG/1.1/DTD/svg11.dtd\">\n",
       "<!-- Generated by graphviz version 2.43.0 (0)\n",
       " -->\n",
       "<!-- Title: %3 Pages: 1 -->\n",
       "<svg width=\"407pt\" height=\"332pt\"\n",
       " viewBox=\"0.00 0.00 407.39 332.00\" xmlns=\"http://www.w3.org/2000/svg\" xmlns:xlink=\"http://www.w3.org/1999/xlink\">\n",
       "<g id=\"graph0\" class=\"graph\" transform=\"scale(1 1) rotate(0) translate(4 328)\">\n",
       "<title>%3</title>\n",
       "<polygon fill=\"white\" stroke=\"transparent\" points=\"-4,4 -4,-328 403.39,-328 403.39,4 -4,4\"/>\n",
       "<!-- root -->\n",
       "<g id=\"node1\" class=\"node\">\n",
       "<title>root</title>\n",
       "<ellipse fill=\"none\" stroke=\"black\" cx=\"191.15\" cy=\"-306\" rx=\"44.69\" ry=\"18\"/>\n",
       "<text text-anchor=\"middle\" x=\"191.15\" y=\"-302.3\" font-family=\"Times,serif\" font-size=\"14.00\">outlook</text>\n",
       "</g>\n",
       "<!-- 0.09107932721103895 -->\n",
       "<g id=\"node2\" class=\"node\">\n",
       "<title>0.09107932721103895</title>\n",
       "<ellipse fill=\"none\" stroke=\"black\" cx=\"81.15\" cy=\"-234\" rx=\"40.09\" ry=\"18\"/>\n",
       "<text text-anchor=\"middle\" x=\"81.15\" y=\"-230.3\" font-family=\"Times,serif\" font-size=\"14.00\">Sunny</text>\n",
       "</g>\n",
       "<!-- root&#45;&gt;0.09107932721103895 -->\n",
       "<g id=\"edge1\" class=\"edge\">\n",
       "<title>root&#45;&gt;0.09107932721103895</title>\n",
       "<path fill=\"none\" stroke=\"black\" d=\"M168.35,-290.5C152.17,-280.2 130.24,-266.24 112.42,-254.9\"/>\n",
       "<polygon fill=\"black\" stroke=\"black\" points=\"113.85,-251.66 103.53,-249.25 110.09,-257.57 113.85,-251.66\"/>\n",
       "</g>\n",
       "<!-- 0.4356267755092449 -->\n",
       "<g id=\"node4\" class=\"node\">\n",
       "<title>0.4356267755092449</title>\n",
       "<ellipse fill=\"none\" stroke=\"black\" cx=\"191.15\" cy=\"-234\" rx=\"51.99\" ry=\"18\"/>\n",
       "<text text-anchor=\"middle\" x=\"191.15\" y=\"-230.3\" font-family=\"Times,serif\" font-size=\"14.00\">Overcast</text>\n",
       "</g>\n",
       "<!-- root&#45;&gt;0.4356267755092449 -->\n",
       "<g id=\"edge3\" class=\"edge\">\n",
       "<title>root&#45;&gt;0.4356267755092449</title>\n",
       "<path fill=\"none\" stroke=\"black\" d=\"M191.15,-287.7C191.15,-279.98 191.15,-270.71 191.15,-262.11\"/>\n",
       "<polygon fill=\"black\" stroke=\"black\" points=\"194.65,-262.1 191.15,-252.1 187.65,-262.1 194.65,-262.1\"/>\n",
       "</g>\n",
       "<!-- 0.925680250421466 -->\n",
       "<g id=\"node6\" class=\"node\">\n",
       "<title>0.925680250421466</title>\n",
       "<ellipse fill=\"none\" stroke=\"black\" cx=\"293.15\" cy=\"-234\" rx=\"31.7\" ry=\"18\"/>\n",
       "<text text-anchor=\"middle\" x=\"293.15\" y=\"-230.3\" font-family=\"Times,serif\" font-size=\"14.00\">Rain</text>\n",
       "</g>\n",
       "<!-- root&#45;&gt;0.925680250421466 -->\n",
       "<g id=\"edge5\" class=\"edge\">\n",
       "<title>root&#45;&gt;0.925680250421466</title>\n",
       "<path fill=\"none\" stroke=\"black\" d=\"M212.78,-290.15C227.98,-279.73 248.45,-265.67 264.93,-254.36\"/>\n",
       "<polygon fill=\"black\" stroke=\"black\" points=\"267.35,-256.95 273.62,-248.4 263.39,-251.18 267.35,-256.95\"/>\n",
       "</g>\n",
       "<!-- 0.06598738153153239 -->\n",
       "<g id=\"node3\" class=\"node\">\n",
       "<title>0.06598738153153239</title>\n",
       "<ellipse fill=\"none\" stroke=\"black\" cx=\"81.15\" cy=\"-162\" rx=\"51.99\" ry=\"18\"/>\n",
       "<text text-anchor=\"middle\" x=\"81.15\" y=\"-158.3\" font-family=\"Times,serif\" font-size=\"14.00\">humidity</text>\n",
       "</g>\n",
       "<!-- 0.09107932721103895&#45;&gt;0.06598738153153239 -->\n",
       "<g id=\"edge2\" class=\"edge\">\n",
       "<title>0.09107932721103895&#45;&gt;0.06598738153153239</title>\n",
       "<path fill=\"none\" stroke=\"black\" d=\"M81.15,-215.7C81.15,-207.98 81.15,-198.71 81.15,-190.11\"/>\n",
       "<polygon fill=\"black\" stroke=\"black\" points=\"84.65,-190.1 81.15,-180.1 77.65,-190.1 84.65,-190.1\"/>\n",
       "</g>\n",
       "<!-- 0.3418271963775654 -->\n",
       "<g id=\"node8\" class=\"node\">\n",
       "<title>0.3418271963775654</title>\n",
       "<ellipse fill=\"none\" stroke=\"black\" cx=\"33.15\" cy=\"-90\" rx=\"33.29\" ry=\"18\"/>\n",
       "<text text-anchor=\"middle\" x=\"33.15\" y=\"-86.3\" font-family=\"Times,serif\" font-size=\"14.00\">High</text>\n",
       "</g>\n",
       "<!-- 0.06598738153153239&#45;&gt;0.3418271963775654 -->\n",
       "<g id=\"edge7\" class=\"edge\">\n",
       "<title>0.06598738153153239&#45;&gt;0.3418271963775654</title>\n",
       "<path fill=\"none\" stroke=\"black\" d=\"M69.77,-144.41C63.83,-135.74 56.44,-124.97 49.86,-115.38\"/>\n",
       "<polygon fill=\"black\" stroke=\"black\" points=\"52.65,-113.26 44.11,-106.99 46.88,-117.21 52.65,-113.26\"/>\n",
       "</g>\n",
       "<!-- 0.6705886763623081 -->\n",
       "<g id=\"node10\" class=\"node\">\n",
       "<title>0.6705886763623081</title>\n",
       "<ellipse fill=\"none\" stroke=\"black\" cx=\"130.15\" cy=\"-90\" rx=\"45.49\" ry=\"18\"/>\n",
       "<text text-anchor=\"middle\" x=\"130.15\" y=\"-86.3\" font-family=\"Times,serif\" font-size=\"14.00\">Normal</text>\n",
       "</g>\n",
       "<!-- 0.06598738153153239&#45;&gt;0.6705886763623081 -->\n",
       "<g id=\"edge9\" class=\"edge\">\n",
       "<title>0.06598738153153239&#45;&gt;0.6705886763623081</title>\n",
       "<path fill=\"none\" stroke=\"black\" d=\"M92.76,-144.41C98.74,-135.87 106.15,-125.28 112.8,-115.79\"/>\n",
       "<polygon fill=\"black\" stroke=\"black\" points=\"115.75,-117.67 118.62,-107.47 110.02,-113.66 115.75,-117.67\"/>\n",
       "</g>\n",
       "<!-- 0.20872378356474397 -->\n",
       "<g id=\"node5\" class=\"node\">\n",
       "<title>0.20872378356474397</title>\n",
       "<ellipse fill=\"none\" stroke=\"black\" cx=\"191.15\" cy=\"-162\" rx=\"27\" ry=\"18\"/>\n",
       "<text text-anchor=\"middle\" x=\"191.15\" y=\"-158.3\" font-family=\"Times,serif\" font-size=\"14.00\">Yes</text>\n",
       "</g>\n",
       "<!-- 0.4356267755092449&#45;&gt;0.20872378356474397 -->\n",
       "<g id=\"edge4\" class=\"edge\">\n",
       "<title>0.4356267755092449&#45;&gt;0.20872378356474397</title>\n",
       "<path fill=\"none\" stroke=\"black\" d=\"M191.15,-215.7C191.15,-207.98 191.15,-198.71 191.15,-190.11\"/>\n",
       "<polygon fill=\"black\" stroke=\"black\" points=\"194.65,-190.1 191.15,-180.1 187.65,-190.1 194.65,-190.1\"/>\n",
       "</g>\n",
       "<!-- 0.7320833666315752 -->\n",
       "<g id=\"node7\" class=\"node\">\n",
       "<title>0.7320833666315752</title>\n",
       "<ellipse fill=\"none\" stroke=\"black\" cx=\"293.15\" cy=\"-162\" rx=\"33.29\" ry=\"18\"/>\n",
       "<text text-anchor=\"middle\" x=\"293.15\" y=\"-158.3\" font-family=\"Times,serif\" font-size=\"14.00\">wind</text>\n",
       "</g>\n",
       "<!-- 0.925680250421466&#45;&gt;0.7320833666315752 -->\n",
       "<g id=\"edge6\" class=\"edge\">\n",
       "<title>0.925680250421466&#45;&gt;0.7320833666315752</title>\n",
       "<path fill=\"none\" stroke=\"black\" d=\"M293.15,-215.7C293.15,-207.98 293.15,-198.71 293.15,-190.11\"/>\n",
       "<polygon fill=\"black\" stroke=\"black\" points=\"296.65,-190.1 293.15,-180.1 289.65,-190.1 296.65,-190.1\"/>\n",
       "</g>\n",
       "<!-- 0.05792188963778411 -->\n",
       "<g id=\"node12\" class=\"node\">\n",
       "<title>0.05792188963778411</title>\n",
       "<ellipse fill=\"none\" stroke=\"black\" cx=\"261.15\" cy=\"-90\" rx=\"36\" ry=\"18\"/>\n",
       "<text text-anchor=\"middle\" x=\"261.15\" y=\"-86.3\" font-family=\"Times,serif\" font-size=\"14.00\">Weak</text>\n",
       "</g>\n",
       "<!-- 0.7320833666315752&#45;&gt;0.05792188963778411 -->\n",
       "<g id=\"edge11\" class=\"edge\">\n",
       "<title>0.7320833666315752&#45;&gt;0.05792188963778411</title>\n",
       "<path fill=\"none\" stroke=\"black\" d=\"M285.56,-144.41C281.83,-136.25 277.25,-126.22 273.06,-117.07\"/>\n",
       "<polygon fill=\"black\" stroke=\"black\" points=\"276.24,-115.6 268.9,-107.96 269.87,-118.51 276.24,-115.6\"/>\n",
       "</g>\n",
       "<!-- 0.06621878189523633 -->\n",
       "<g id=\"node14\" class=\"node\">\n",
       "<title>0.06621878189523633</title>\n",
       "<ellipse fill=\"none\" stroke=\"black\" cx=\"357.15\" cy=\"-90\" rx=\"42.49\" ry=\"18\"/>\n",
       "<text text-anchor=\"middle\" x=\"357.15\" y=\"-86.3\" font-family=\"Times,serif\" font-size=\"14.00\">Strong</text>\n",
       "</g>\n",
       "<!-- 0.7320833666315752&#45;&gt;0.06621878189523633 -->\n",
       "<g id=\"edge13\" class=\"edge\">\n",
       "<title>0.7320833666315752&#45;&gt;0.06621878189523633</title>\n",
       "<path fill=\"none\" stroke=\"black\" d=\"M307.35,-145.46C315.68,-136.35 326.38,-124.65 335.72,-114.43\"/>\n",
       "<polygon fill=\"black\" stroke=\"black\" points=\"338.37,-116.72 342.54,-106.98 333.21,-112 338.37,-116.72\"/>\n",
       "</g>\n",
       "<!-- 0.9902707639842268 -->\n",
       "<g id=\"node9\" class=\"node\">\n",
       "<title>0.9902707639842268</title>\n",
       "<ellipse fill=\"none\" stroke=\"black\" cx=\"33.15\" cy=\"-18\" rx=\"27\" ry=\"18\"/>\n",
       "<text text-anchor=\"middle\" x=\"33.15\" y=\"-14.3\" font-family=\"Times,serif\" font-size=\"14.00\">No</text>\n",
       "</g>\n",
       "<!-- 0.3418271963775654&#45;&gt;0.9902707639842268 -->\n",
       "<g id=\"edge8\" class=\"edge\">\n",
       "<title>0.3418271963775654&#45;&gt;0.9902707639842268</title>\n",
       "<path fill=\"none\" stroke=\"black\" d=\"M33.15,-71.7C33.15,-63.98 33.15,-54.71 33.15,-46.11\"/>\n",
       "<polygon fill=\"black\" stroke=\"black\" points=\"36.65,-46.1 33.15,-36.1 29.65,-46.1 36.65,-46.1\"/>\n",
       "</g>\n",
       "<!-- 0.2629068166065619 -->\n",
       "<g id=\"node11\" class=\"node\">\n",
       "<title>0.2629068166065619</title>\n",
       "<ellipse fill=\"none\" stroke=\"black\" cx=\"130.15\" cy=\"-18\" rx=\"27\" ry=\"18\"/>\n",
       "<text text-anchor=\"middle\" x=\"130.15\" y=\"-14.3\" font-family=\"Times,serif\" font-size=\"14.00\">Yes</text>\n",
       "</g>\n",
       "<!-- 0.6705886763623081&#45;&gt;0.2629068166065619 -->\n",
       "<g id=\"edge10\" class=\"edge\">\n",
       "<title>0.6705886763623081&#45;&gt;0.2629068166065619</title>\n",
       "<path fill=\"none\" stroke=\"black\" d=\"M130.15,-71.7C130.15,-63.98 130.15,-54.71 130.15,-46.11\"/>\n",
       "<polygon fill=\"black\" stroke=\"black\" points=\"133.65,-46.1 130.15,-36.1 126.65,-46.1 133.65,-46.1\"/>\n",
       "</g>\n",
       "<!-- 0.3509258055246819 -->\n",
       "<g id=\"node13\" class=\"node\">\n",
       "<title>0.3509258055246819</title>\n",
       "<ellipse fill=\"none\" stroke=\"black\" cx=\"261.15\" cy=\"-18\" rx=\"27\" ry=\"18\"/>\n",
       "<text text-anchor=\"middle\" x=\"261.15\" y=\"-14.3\" font-family=\"Times,serif\" font-size=\"14.00\">Yes</text>\n",
       "</g>\n",
       "<!-- 0.05792188963778411&#45;&gt;0.3509258055246819 -->\n",
       "<g id=\"edge12\" class=\"edge\">\n",
       "<title>0.05792188963778411&#45;&gt;0.3509258055246819</title>\n",
       "<path fill=\"none\" stroke=\"black\" d=\"M261.15,-71.7C261.15,-63.98 261.15,-54.71 261.15,-46.11\"/>\n",
       "<polygon fill=\"black\" stroke=\"black\" points=\"264.65,-46.1 261.15,-36.1 257.65,-46.1 264.65,-46.1\"/>\n",
       "</g>\n",
       "<!-- 0.2964368914873857 -->\n",
       "<g id=\"node15\" class=\"node\">\n",
       "<title>0.2964368914873857</title>\n",
       "<ellipse fill=\"none\" stroke=\"black\" cx=\"357.15\" cy=\"-18\" rx=\"27\" ry=\"18\"/>\n",
       "<text text-anchor=\"middle\" x=\"357.15\" y=\"-14.3\" font-family=\"Times,serif\" font-size=\"14.00\">No</text>\n",
       "</g>\n",
       "<!-- 0.06621878189523633&#45;&gt;0.2964368914873857 -->\n",
       "<g id=\"edge14\" class=\"edge\">\n",
       "<title>0.06621878189523633&#45;&gt;0.2964368914873857</title>\n",
       "<path fill=\"none\" stroke=\"black\" d=\"M357.15,-71.7C357.15,-63.98 357.15,-54.71 357.15,-46.11\"/>\n",
       "<polygon fill=\"black\" stroke=\"black\" points=\"360.65,-46.1 357.15,-36.1 353.65,-46.1 360.65,-46.1\"/>\n",
       "</g>\n",
       "</g>\n",
       "</svg>\n"
      ],
      "text/plain": [
       "<graphviz.graphs.Digraph at 0x728aefb66f90>"
      ]
     },
     "metadata": {},
     "output_type": "display_data"
    }
   ],
   "source": [
    "# Here you can pass pruning features (gain_threshold and minimum_samples)\n",
    "decisionTree.id3(0,0)\n",
    "# Visualizing decision tree by Graphviz\n",
    "dot = decisionTree.print_visualTree(render = True)\n",
    "display(dot)"
   ]
  },
  {
   "cell_type": "code",
   "execution_count": null,
   "id": "6c7cf5f4-67b4-4e64-bba9-973e7a624793",
   "metadata": {},
   "outputs": [],
   "source": []
  }
 ],
 "metadata": {
  "kernelspec": {
   "display_name": "Python 3 (ipykernel)",
   "language": "python",
   "name": "python3"
  },
  "language_info": {
   "codemirror_mode": {
    "name": "ipython",
    "version": 3
   },
   "file_extension": ".py",
   "mimetype": "text/x-python",
   "name": "python",
   "nbconvert_exporter": "python",
   "pygments_lexer": "ipython3",
   "version": "3.12.4"
  }
 },
 "nbformat": 4,
 "nbformat_minor": 5
}
